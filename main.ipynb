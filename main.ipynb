{
 "nbformat": 4,
 "nbformat_minor": 2,
 "metadata": {
  "language_info": {
   "name": "python",
   "codemirror_mode": {
    "name": "ipython",
    "version": 3
   },
   "version": "3.7.6-final"
  },
  "orig_nbformat": 2,
  "file_extension": ".py",
  "mimetype": "text/x-python",
  "name": "python",
  "npconvert_exporter": "python",
  "pygments_lexer": "ipython3",
  "version": 3,
  "kernelspec": {
   "name": "python37664bitdb77b0760dbb4bf3a712e4dd2cad7b36",
   "display_name": "Python 3.7.6 64-bit"
  }
 },
 "cells": [
  {
   "cell_type": "code",
   "execution_count": 1,
   "metadata": {},
   "outputs": [],
   "source": [
    "import pandas as pd\n",
    "import pyomo.environ as pe\n",
    "from optimisation import *\n"
   ]
  },
  {
   "cell_type": "code",
   "execution_count": 2,
   "metadata": {},
   "outputs": [
    {
     "name": "stdout",
     "output_type": "stream",
     "text": "# ==========================================================\n# = Solver Results                                         =\n# ==========================================================\n# ----------------------------------------------------------\n#   Problem Information\n# ----------------------------------------------------------\nProblem: \n- Name: unknown\n  Lower bound: 1858.20526642631\n  Upper bound: 1858.20526642631\n  Number of objectives: 1\n  Number of constraints: 7733\n  Number of variables: 3866\n  Number of nonzeros: 15461\n  Sense: maximize\n# ----------------------------------------------------------\n#   Solver Information\n# ----------------------------------------------------------\nSolver: \n- Status: ok\n  Termination condition: optimal\n  Statistics: \n    Branch and bound: \n      Number of bounded subproblems: 0\n      Number of created subproblems: 0\n  Error rc: 0\n  Time: 0.20601391792297363\n# ----------------------------------------------------------\n#   Solution Information\n# ----------------------------------------------------------\nSolution: \n- number of solutions: 0\n  number of solutions displayed: 0\n\n\nWARNING: DEPRECATED: The .value property getter on SimpleObjective is\n    deprecated. Use the .expr property getter instead\nЦелевая : 1858.205266426305\n\nСумма по общему кол-ву : 50000.0\n\nМаксимальная затраченная энергия на галактику : 100.0\n\nПроцент энергии на короткоживущих планетах : 0.372\n\n"
    }
   ],
   "source": [
    "    train = pd.read_csv('data/train.csv')\n",
    "    opt = galaxy_optim(train)\n",
    "    opt.solve()\n",
    "    results = opt.prepare_output_file()\n",
    "    opt.check_optim_results()"
   ]
  }
 ]
}
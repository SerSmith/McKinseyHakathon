{
 "nbformat": 4,
 "nbformat_minor": 2,
 "metadata": {
  "language_info": {
   "name": "python",
   "codemirror_mode": {
    "name": "ipython",
    "version": 3
   },
   "version": "3.7.6-final"
  },
  "orig_nbformat": 2,
  "file_extension": ".py",
  "mimetype": "text/x-python",
  "name": "python",
  "npconvert_exporter": "python",
  "pygments_lexer": "ipython3",
  "version": 3,
  "kernelspec": {
   "name": "python37664bitdb77b0760dbb4bf3a712e4dd2cad7b36",
   "display_name": "Python 3.7.6 64-bit"
  }
 },
 "cells": [
  {
   "cell_type": "code",
   "execution_count": 1,
   "metadata": {},
   "outputs": [],
   "source": [
    "import pandas as pd\n",
    "import pyomo.environ as pe\n",
    "import preprocessing\n",
    "from optimisation import *\n",
    "import numpy as np\n",
    "import lightgbm as lgb\n",
    "from sklearn.model_selection import train_test_split\n",
    "import model\n",
    "import matplotlib.pyplot as plt\n",
    "from scipy import stats\n",
    "from tqdm import tqdm\n",
    "import swifter"
   ]
  },
  {
   "cell_type": "code",
   "execution_count": 2,
   "metadata": {},
   "outputs": [],
   "source": [
    "train = pd.read_csv(\"data/train.csv\")"
   ]
  },
  {
   "cell_type": "code",
   "execution_count": 3,
   "metadata": {},
   "outputs": [],
   "source": [
    "test = pd.read_csv(\"data/test.csv\")"
   ]
  },
  {
   "cell_type": "code",
   "execution_count": 4,
   "metadata": {},
   "outputs": [],
   "source": [
    "train_upd, test_upd = preprocessing.preprocessing_all(train, test)"
   ]
  },
  {
   "cell_type": "code",
   "execution_count": 5,
   "metadata": {},
   "outputs": [
    {
     "name": "stdout",
     "output_type": "stream",
     "text": "e: 0.0258716\tvalid_0's l2: 0.00066934\n[420]\tvalid_0's rmse: 0.0258607\tvalid_0's l2: 0.000668776\n[421]\tvalid_0's rmse: 0.025853\tvalid_0's l2: 0.000668377\n[422]\tvalid_0's rmse: 0.0258482\tvalid_0's l2: 0.000668129\n[423]\tvalid_0's rmse: 0.0258404\tvalid_0's l2: 0.000667725\n[424]\tvalid_0's rmse: 0.0258374\tvalid_0's l2: 0.000667574\n[425]\tvalid_0's rmse: 0.0258313\tvalid_0's l2: 0.000667258\n[426]\tvalid_0's rmse: 0.0258229\tvalid_0's l2: 0.000666823\n[427]\tvalid_0's rmse: 0.0258143\tvalid_0's l2: 0.00066638\n[428]\tvalid_0's rmse: 0.0258116\tvalid_0's l2: 0.000666239\n[429]\tvalid_0's rmse: 0.0258063\tvalid_0's l2: 0.000665967\n[430]\tvalid_0's rmse: 0.0258052\tvalid_0's l2: 0.000665908\n[431]\tvalid_0's rmse: 0.0257973\tvalid_0's l2: 0.000665501\n[432]\tvalid_0's rmse: 0.0257892\tvalid_0's l2: 0.000665082\n[433]\tvalid_0's rmse: 0.0257842\tvalid_0's l2: 0.000664825\n[434]\tvalid_0's rmse: 0.0257778\tvalid_0's l2: 0.000664497\n[435]\tvalid_0's rmse: 0.0257688\tvalid_0's l2: 0.000664033\n[436]\tvalid_0's rmse: 0.025766\tvalid_0's l2: 0.000663889\n[437]\tvalid_0's rmse: 0.0257586\tvalid_0's l2: 0.000663506\n[438]\tvalid_0's rmse: 0.025754\tvalid_0's l2: 0.000663266\n[439]\tvalid_0's rmse: 0.0257528\tvalid_0's l2: 0.000663204\n[440]\tvalid_0's rmse: 0.0257472\tvalid_0's l2: 0.000662919\n[441]\tvalid_0's rmse: 0.025736\tvalid_0's l2: 0.000662344\n[442]\tvalid_0's rmse: 0.0257313\tvalid_0's l2: 0.0006621\n[443]\tvalid_0's rmse: 0.025725\tvalid_0's l2: 0.000661774\n[444]\tvalid_0's rmse: 0.0257212\tvalid_0's l2: 0.000661579\n[445]\tvalid_0's rmse: 0.0257194\tvalid_0's l2: 0.000661489\n[446]\tvalid_0's rmse: 0.0257164\tvalid_0's l2: 0.000661333\n[447]\tvalid_0's rmse: 0.0257087\tvalid_0's l2: 0.000660938\n[448]\tvalid_0's rmse: 0.0257106\tvalid_0's l2: 0.000661034\n[449]\tvalid_0's rmse: 0.0257093\tvalid_0's l2: 0.000660969\n[450]\tvalid_0's rmse: 0.0257007\tvalid_0's l2: 0.000660528\n[451]\tvalid_0's rmse: 0.0257015\tvalid_0's l2: 0.000660568\n[452]\tvalid_0's rmse: 0.0257041\tvalid_0's l2: 0.000660702\n[453]\tvalid_0's rmse: 0.0257063\tvalid_0's l2: 0.000660814\n[454]\tvalid_0's rmse: 0.0256979\tvalid_0's l2: 0.000660383\n[455]\tvalid_0's rmse: 0.0256885\tvalid_0's l2: 0.000659897\n[456]\tvalid_0's rmse: 0.0256894\tvalid_0's l2: 0.000659947\n[457]\tvalid_0's rmse: 0.0256855\tvalid_0's l2: 0.000659747\n[458]\tvalid_0's rmse: 0.0256829\tvalid_0's l2: 0.000659609\n[459]\tvalid_0's rmse: 0.0256747\tvalid_0's l2: 0.000659191\n[460]\tvalid_0's rmse: 0.0256779\tvalid_0's l2: 0.000659353\n[461]\tvalid_0's rmse: 0.0256761\tvalid_0's l2: 0.000659263\n[462]\tvalid_0's rmse: 0.0256725\tvalid_0's l2: 0.000659076\n[463]\tvalid_0's rmse: 0.0256668\tvalid_0's l2: 0.000658785\n[464]\tvalid_0's rmse: 0.0256668\tvalid_0's l2: 0.000658785\n[465]\tvalid_0's rmse: 0.0256635\tvalid_0's l2: 0.000658617\n[466]\tvalid_0's rmse: 0.0256563\tvalid_0's l2: 0.000658246\n[467]\tvalid_0's rmse: 0.0256481\tvalid_0's l2: 0.000657827\n[468]\tvalid_0's rmse: 0.025648\tvalid_0's l2: 0.000657819\n[469]\tvalid_0's rmse: 0.0256515\tvalid_0's l2: 0.000658\n[470]\tvalid_0's rmse: 0.0256424\tvalid_0's l2: 0.000657534\n[471]\tvalid_0's rmse: 0.0256437\tvalid_0's l2: 0.000657597\n[472]\tvalid_0's rmse: 0.0256344\tvalid_0's l2: 0.000657121\n[473]\tvalid_0's rmse: 0.0256241\tvalid_0's l2: 0.000656596\n[474]\tvalid_0's rmse: 0.0256266\tvalid_0's l2: 0.000656723\n[475]\tvalid_0's rmse: 0.0256239\tvalid_0's l2: 0.000656583\n[476]\tvalid_0's rmse: 0.025615\tvalid_0's l2: 0.000656126\n[477]\tvalid_0's rmse: 0.0256153\tvalid_0's l2: 0.000656144\n[478]\tvalid_0's rmse: 0.0256137\tvalid_0's l2: 0.000656063\n[479]\tvalid_0's rmse: 0.0256121\tvalid_0's l2: 0.000655979\n[480]\tvalid_0's rmse: 0.025609\tvalid_0's l2: 0.000655823\n[481]\tvalid_0's rmse: 0.025605\tvalid_0's l2: 0.000655614\n[482]\tvalid_0's rmse: 0.0255965\tvalid_0's l2: 0.000655181\n[483]\tvalid_0's rmse: 0.0255977\tvalid_0's l2: 0.000655241\n[484]\tvalid_0's rmse: 0.0255889\tvalid_0's l2: 0.000654794\n[485]\tvalid_0's rmse: 0.025592\tvalid_0's l2: 0.000654948\n[486]\tvalid_0's rmse: 0.0255918\tvalid_0's l2: 0.000654941\n[487]\tvalid_0's rmse: 0.0255939\tvalid_0's l2: 0.000655046\n[488]\tvalid_0's rmse: 0.0255854\tvalid_0's l2: 0.000654611\n[489]\tvalid_0's rmse: 0.0255797\tvalid_0's l2: 0.000654319\n[490]\tvalid_0's rmse: 0.0255782\tvalid_0's l2: 0.000654245\n[491]\tvalid_0's rmse: 0.0255744\tvalid_0's l2: 0.000654047\n[492]\tvalid_0's rmse: 0.0255749\tvalid_0's l2: 0.000654076\n[493]\tvalid_0's rmse: 0.0255678\tvalid_0's l2: 0.000653713\n[494]\tvalid_0's rmse: 0.0255659\tvalid_0's l2: 0.000653617\n[495]\tvalid_0's rmse: 0.0255662\tvalid_0's l2: 0.000653631\n[496]\tvalid_0's rmse: 0.0255694\tvalid_0's l2: 0.000653793\n[497]\tvalid_0's rmse: 0.0255657\tvalid_0's l2: 0.000653606\n[498]\tvalid_0's rmse: 0.0255655\tvalid_0's l2: 0.000653593\n[499]\tvalid_0's rmse: 0.0255542\tvalid_0's l2: 0.000653016\n[500]\tvalid_0's rmse: 0.0255544\tvalid_0's l2: 0.000653028\n[501]\tvalid_0's rmse: 0.0255542\tvalid_0's l2: 0.000653018\n[502]\tvalid_0's rmse: 0.0255558\tvalid_0's l2: 0.0006531\n[503]\tvalid_0's rmse: 0.0255588\tvalid_0's l2: 0.00065325\n[504]\tvalid_0's rmse: 0.0255574\tvalid_0's l2: 0.000653182\n[505]\tvalid_0's rmse: 0.0255591\tvalid_0's l2: 0.000653268\n[506]\tvalid_0's rmse: 0.0255553\tvalid_0's l2: 0.000653076\n[507]\tvalid_0's rmse: 0.0255566\tvalid_0's l2: 0.000653142\n[508]\tvalid_0's rmse: 0.0255596\tvalid_0's l2: 0.000653293\n[509]\tvalid_0's rmse: 0.0255526\tvalid_0's l2: 0.000652937\n[510]\tvalid_0's rmse: 0.0255417\tvalid_0's l2: 0.000652378\n[511]\tvalid_0's rmse: 0.0255416\tvalid_0's l2: 0.000652372\n[512]\tvalid_0's rmse: 0.0255385\tvalid_0's l2: 0.000652217\n[513]\tvalid_0's rmse: 0.025535\tvalid_0's l2: 0.000652035\n[514]\tvalid_0's rmse: 0.0255324\tvalid_0's l2: 0.000651902\n[515]\tvalid_0's rmse: 0.0255272\tvalid_0's l2: 0.000651638\n[516]\tvalid_0's rmse: 0.0255294\tvalid_0's l2: 0.000651748\n[517]\tvalid_0's rmse: 0.0255248\tvalid_0's l2: 0.000651517\n[518]\tvalid_0's rmse: 0.0255212\tvalid_0's l2: 0.00065133\n[519]\tvalid_0's rmse: 0.0255201\tvalid_0's l2: 0.000651277\n[520]\tvalid_0's rmse: 0.0255173\tvalid_0's l2: 0.000651134\n[521]\tvalid_0's rmse: 0.0255194\tvalid_0's l2: 0.000651241\n[522]\tvalid_0's rmse: 0.0255158\tvalid_0's l2: 0.000651057\n[523]\tvalid_0's rmse: 0.025518\tvalid_0's l2: 0.000651168\n[524]\tvalid_0's rmse: 0.0255157\tvalid_0's l2: 0.000651048\n[525]\tvalid_0's rmse: 0.025509\tvalid_0's l2: 0.000650709\n[526]\tvalid_0's rmse: 0.0255093\tvalid_0's l2: 0.000650722\n[527]\tvalid_0's rmse: 0.0255046\tvalid_0's l2: 0.000650486\n[528]\tvalid_0's rmse: 0.0255011\tvalid_0's l2: 0.000650309\n[529]\tvalid_0's rmse: 0.0254983\tvalid_0's l2: 0.000650161\n[530]\tvalid_0's rmse: 0.0254942\tvalid_0's l2: 0.000649952\n[531]\tvalid_0's rmse: 0.0254921\tvalid_0's l2: 0.000649845\n[532]\tvalid_0's rmse: 0.0254887\tvalid_0's l2: 0.000649671\n[533]\tvalid_0's rmse: 0.0254908\tvalid_0's l2: 0.000649783\n[534]\tvalid_0's rmse: 0.025491\tvalid_0's l2: 0.000649792\n[535]\tvalid_0's rmse: 0.0254886\tvalid_0's l2: 0.000649667\n[536]\tvalid_0's rmse: 0.0254832\tvalid_0's l2: 0.000649394\n[537]\tvalid_0's rmse: 0.0254792\tvalid_0's l2: 0.000649187\n[538]\tvalid_0's rmse: 0.0254768\tvalid_0's l2: 0.000649068\n[539]\tvalid_0's rmse: 0.0254759\tvalid_0's l2: 0.000649019\n[540]\tvalid_0's rmse: 0.0254736\tvalid_0's l2: 0.000648903\n[541]\tvalid_0's rmse: 0.0254712\tvalid_0's l2: 0.000648783\n[542]\tvalid_0's rmse: 0.0254751\tvalid_0's l2: 0.000648982\n[543]\tvalid_0's rmse: 0.025471\tvalid_0's l2: 0.000648774\n[544]\tvalid_0's rmse: 0.0254677\tvalid_0's l2: 0.000648602\n[545]\tvalid_0's rmse: 0.0254664\tvalid_0's l2: 0.000648539\n[546]\tvalid_0's rmse: 0.0254667\tvalid_0's l2: 0.000648553\n[547]\tvalid_0's rmse: 0.0254668\tvalid_0's l2: 0.000648558\n[548]\tvalid_0's rmse: 0.0254698\tvalid_0's l2: 0.000648709\n[549]\tvalid_0's rmse: 0.0254678\tvalid_0's l2: 0.00064861\n[550]\tvalid_0's rmse: 0.0254646\tvalid_0's l2: 0.000648444\n[551]\tvalid_0's rmse: 0.0254597\tvalid_0's l2: 0.000648195\n[552]\tvalid_0's rmse: 0.0254617\tvalid_0's l2: 0.000648301\n[553]\tvalid_0's rmse: 0.0254585\tvalid_0's l2: 0.000648134\n[554]\tvalid_0's rmse: 0.0254577\tvalid_0's l2: 0.000648093\n[555]\tvalid_0's rmse: 0.0254531\tvalid_0's l2: 0.000647862\n[556]\tvalid_0's rmse: 0.0254532\tvalid_0's l2: 0.000647866\n[557]\tvalid_0's rmse: 0.0254562\tvalid_0's l2: 0.000648018\n[558]\tvalid_0's rmse: 0.0254533\tvalid_0's l2: 0.000647872\n[559]\tvalid_0's rmse: 0.0254496\tvalid_0's l2: 0.00064768\n[560]\tvalid_0's rmse: 0.0254485\tvalid_0's l2: 0.000647625\n[561]\tvalid_0's rmse: 0.0254497\tvalid_0's l2: 0.000647687\n[562]\tvalid_0's rmse: 0.0254486\tvalid_0's l2: 0.000647629\n[563]\tvalid_0's rmse: 0.025449\tvalid_0's l2: 0.000647654\n[564]\tvalid_0's rmse: 0.0254458\tvalid_0's l2: 0.000647487\n[565]\tvalid_0's rmse: 0.0254455\tvalid_0's l2: 0.000647473\n[566]\tvalid_0's rmse: 0.0254437\tvalid_0's l2: 0.000647384\n[567]\tvalid_0's rmse: 0.0254411\tvalid_0's l2: 0.000647249\n[568]\tvalid_0's rmse: 0.0254424\tvalid_0's l2: 0.000647315\n[569]\tvalid_0's rmse: 0.0254403\tvalid_0's l2: 0.000647209\n[570]\tvalid_0's rmse: 0.0254372\tvalid_0's l2: 0.000647049\n[571]\tvalid_0's rmse: 0.0254385\tvalid_0's l2: 0.000647119\n[572]\tvalid_0's rmse: 0.0254351\tvalid_0's l2: 0.000646943\n[573]\tvalid_0's rmse: 0.025436\tvalid_0's l2: 0.00064699\n[574]\tvalid_0's rmse: 0.0254287\tvalid_0's l2: 0.00064662\n[575]\tvalid_0's rmse: 0.0254269\tvalid_0's l2: 0.00064653\n[576]\tvalid_0's rmse: 0.0254268\tvalid_0's l2: 0.000646524\n[577]\tvalid_0's rmse: 0.0254296\tvalid_0's l2: 0.000646662\n[578]\tvalid_0's rmse: 0.025431\tvalid_0's l2: 0.000646737\n[579]\tvalid_0's rmse: 0.0254277\tvalid_0's l2: 0.000646565\n[580]\tvalid_0's rmse: 0.0254282\tvalid_0's l2: 0.000646594\n[581]\tvalid_0's rmse: 0.0254276\tvalid_0's l2: 0.000646564\n[582]\tvalid_0's rmse: 0.0254291\tvalid_0's l2: 0.000646641\n[583]\tvalid_0's rmse: 0.0254274\tvalid_0's l2: 0.000646551\n[584]\tvalid_0's rmse: 0.0254289\tvalid_0's l2: 0.000646628\n[585]\tvalid_0's rmse: 0.0254265\tvalid_0's l2: 0.000646506\n[586]\tvalid_0's rmse: 0.0254245\tvalid_0's l2: 0.000646405\n[587]\tvalid_0's rmse: 0.0254233\tvalid_0's l2: 0.000646346\n[588]\tvalid_0's rmse: 0.0254201\tvalid_0's l2: 0.00064618\n[589]\tvalid_0's rmse: 0.0254172\tvalid_0's l2: 0.000646035\n[590]\tvalid_0's rmse: 0.025413\tvalid_0's l2: 0.000645823\n[591]\tvalid_0's rmse: 0.0254141\tvalid_0's l2: 0.000645877\n[592]\tvalid_0's rmse: 0.025412\tvalid_0's l2: 0.000645771\n[593]\tvalid_0's rmse: 0.0254116\tvalid_0's l2: 0.000645748\n[594]\tvalid_0's rmse: 0.025408\tvalid_0's l2: 0.000645565\n[595]\tvalid_0's rmse: 0.0254075\tvalid_0's l2: 0.000645543\n[596]\tvalid_0's rmse: 0.0254031\tvalid_0's l2: 0.000645317\n[597]\tvalid_0's rmse: 0.0254028\tvalid_0's l2: 0.000645303\n[598]\tvalid_0's rmse: 0.0254011\tvalid_0's l2: 0.000645216\n[599]\tvalid_0's rmse: 0.0253953\tvalid_0's l2: 0.000644919\n[600]\tvalid_0's rmse: 0.0253953\tvalid_0's l2: 0.000644919\n[601]\tvalid_0's rmse: 0.0253944\tvalid_0's l2: 0.000644877\n[602]\tvalid_0's rmse: 0.0253915\tvalid_0's l2: 0.00064473\n[603]\tvalid_0's rmse: 0.0253915\tvalid_0's l2: 0.000644726\n[604]\tvalid_0's rmse: 0.0253899\tvalid_0's l2: 0.000644645\n[605]\tvalid_0's rmse: 0.0253895\tvalid_0's l2: 0.000644624\n[606]\tvalid_0's rmse: 0.0253911\tvalid_0's l2: 0.000644708\n[607]\tvalid_0's rmse: 0.0253897\tvalid_0's l2: 0.000644639\n[608]\tvalid_0's rmse: 0.0253894\tvalid_0's l2: 0.000644623\n[609]\tvalid_0's rmse: 0.0253845\tvalid_0's l2: 0.000644373\n[610]\tvalid_0's rmse: 0.0253843\tvalid_0's l2: 0.000644361\n[611]\tvalid_0's rmse: 0.0253833\tvalid_0's l2: 0.00064431\n[612]\tvalid_0's rmse: 0.0253822\tvalid_0's l2: 0.000644258\n[613]\tvalid_0's rmse: 0.02538\tvalid_0's l2: 0.000644146\n[614]\tvalid_0's rmse: 0.0253793\tvalid_0's l2: 0.000644106\n[615]\tvalid_0's rmse: 0.0253783\tvalid_0's l2: 0.000644059\n[616]\tvalid_0's rmse: 0.025376\tvalid_0's l2: 0.000643943\n[617]\tvalid_0's rmse: 0.0253723\tvalid_0's l2: 0.000643753\n[618]\tvalid_0's rmse: 0.0253718\tvalid_0's l2: 0.000643726\n[619]\tvalid_0's rmse: 0.0253717\tvalid_0's l2: 0.000643724\n[620]\tvalid_0's rmse: 0.0253662\tvalid_0's l2: 0.000643446\n[621]\tvalid_0's rmse: 0.0253597\tvalid_0's l2: 0.000643113\n[622]\tvalid_0's rmse: 0.0253606\tvalid_0's l2: 0.000643161\n[623]\tvalid_0's rmse: 0.0253617\tvalid_0's l2: 0.000643216\n[624]\tvalid_0's rmse: 0.0253583\tvalid_0's l2: 0.000643044\n[625]\tvalid_0's rmse: 0.0253537\tvalid_0's l2: 0.00064281\n[626]\tvalid_0's rmse: 0.0253525\tvalid_0's l2: 0.000642749\n[627]\tvalid_0's rmse: 0.0253539\tvalid_0's l2: 0.000642818\n[628]\tvalid_0's rmse: 0.0253517\tvalid_0's l2: 0.000642706\n[629]\tvalid_0's rmse: 0.0253517\tvalid_0's l2: 0.000642709\n[630]\tvalid_0's rmse: 0.0253509\tvalid_0's l2: 0.000642667\n[631]\tvalid_0's rmse: 0.0253431\tvalid_0's l2: 0.000642274\n[632]\tvalid_0's rmse: 0.025342\tvalid_0's l2: 0.000642217\n[633]\tvalid_0's rmse: 0.0253393\tvalid_0's l2: 0.000642078\n[634]\tvalid_0's rmse: 0.025336\tvalid_0's l2: 0.000641914\n[635]\tvalid_0's rmse: 0.0253379\tvalid_0's l2: 0.00064201\n[636]\tvalid_0's rmse: 0.0253317\tvalid_0's l2: 0.000641695\n[637]\tvalid_0's rmse: 0.0253329\tvalid_0's l2: 0.000641757\n[638]\tvalid_0's rmse: 0.0253283\tvalid_0's l2: 0.000641525\n[639]\tvalid_0's rmse: 0.0253273\tvalid_0's l2: 0.000641471\n[640]\tvalid_0's rmse: 0.0253255\tvalid_0's l2: 0.000641383\n[641]\tvalid_0's rmse: 0.025328\tvalid_0's l2: 0.000641508\n[642]\tvalid_0's rmse: 0.0253188\tvalid_0's l2: 0.00064104\n[643]\tvalid_0's rmse: 0.025318\tvalid_0's l2: 0.000641001\n[644]\tvalid_0's rmse: 0.0253128\tvalid_0's l2: 0.000640737\n[645]\tvalid_0's rmse: 0.0253096\tvalid_0's l2: 0.000640576\n[646]\tvalid_0's rmse: 0.025305\tvalid_0's l2: 0.000640344\n[647]\tvalid_0's rmse: 0.025302\tvalid_0's l2: 0.000640191\n[648]\tvalid_0's rmse: 0.0253021\tvalid_0's l2: 0.000640198\n[649]\tvalid_0's rmse: 0.0252993\tvalid_0's l2: 0.000640056\n[650]\tvalid_0's rmse: 0.0252988\tvalid_0's l2: 0.00064003\n[651]\tvalid_0's rmse: 0.0252997\tvalid_0's l2: 0.000640075\n[652]\tvalid_0's rmse: 0.0252999\tvalid_0's l2: 0.000640084\n[653]\tvalid_0's rmse: 0.0252997\tvalid_0's l2: 0.000640075\n[654]\tvalid_0's rmse: 0.0252959\tvalid_0's l2: 0.000639883\n[655]\tvalid_0's rmse: 0.0252972\tvalid_0's l2: 0.00063995\n[656]\tvalid_0's rmse: 0.025295\tvalid_0's l2: 0.000639835\n[657]\tvalid_0's rmse: 0.0252975\tvalid_0's l2: 0.000639964\n[658]\tvalid_0's rmse: 0.0252984\tvalid_0's l2: 0.00064001\n[659]\tvalid_0's rmse: 0.0252973\tvalid_0's l2: 0.000639952\n[660]\tvalid_0's rmse: 0.0252934\tvalid_0's l2: 0.000639758\n[661]\tvalid_0's rmse: 0.0252909\tvalid_0's l2: 0.000639629\n[662]\tvalid_0's rmse: 0.0252935\tvalid_0's l2: 0.000639759\n[663]\tvalid_0's rmse: 0.0252919\tvalid_0's l2: 0.000639679\n[664]\tvalid_0's rmse: 0.025294\tvalid_0's l2: 0.000639789\n[665]\tvalid_0's rmse: 0.0252904\tvalid_0's l2: 0.000639605\n[666]\tvalid_0's rmse: 0.0252889\tvalid_0's l2: 0.000639529\n[667]\tvalid_0's rmse: 0.0252871\tvalid_0's l2: 0.000639436\n[668]\tvalid_0's rmse: 0.0252843\tvalid_0's l2: 0.000639297\n[669]\tvalid_0's rmse: 0.0252829\tvalid_0's l2: 0.000639224\n[670]\tvalid_0's rmse: 0.0252816\tvalid_0's l2: 0.000639157\n[671]\tvalid_0's rmse: 0.0252801\tvalid_0's l2: 0.000639085\n[672]\tvalid_0's rmse: 0.0252785\tvalid_0's l2: 0.000639001\n[673]\tvalid_0's rmse: 0.0252783\tvalid_0's l2: 0.000638994\n[674]\tvalid_0's rmse: 0.0252801\tvalid_0's l2: 0.000639083\n[675]\tvalid_0's rmse: 0.0252745\tvalid_0's l2: 0.000638801\n[676]\tvalid_0's rmse: 0.0252701\tvalid_0's l2: 0.000638578\n[677]\tvalid_0's rmse: 0.0252714\tvalid_0's l2: 0.000638646\n[678]\tvalid_0's rmse: 0.0252692\tvalid_0's l2: 0.000638533\n[679]\tvalid_0's rmse: 0.0252701\tvalid_0's l2: 0.000638578\n[680]\tvalid_0's rmse: 0.0252685\tvalid_0's l2: 0.000638499\n[681]\tvalid_0's rmse: 0.0252631\tvalid_0's l2: 0.000638225\n[682]\tvalid_0's rmse: 0.0252642\tvalid_0's l2: 0.000638277\n[683]\tvalid_0's rmse: 0.0252649\tvalid_0's l2: 0.000638313\n[684]\tvalid_0's rmse: 0.0252632\tvalid_0's l2: 0.000638229\n[685]\tvalid_0's rmse: 0.0252626\tvalid_0's l2: 0.000638201\n[686]\tvalid_0's rmse: 0.0252608\tvalid_0's l2: 0.000638109\n[687]\tvalid_0's rmse: 0.025261\tvalid_0's l2: 0.00063812\n[688]\tvalid_0's rmse: 0.0252575\tvalid_0's l2: 0.000637943\n[689]\tvalid_0's rmse: 0.025257\tvalid_0's l2: 0.000637918\n[690]\tvalid_0's rmse: 0.0252544\tvalid_0's l2: 0.000637787\n[691]\tvalid_0's rmse: 0.0252525\tvalid_0's l2: 0.000637691\n[692]\tvalid_0's rmse: 0.0252534\tvalid_0's l2: 0.000637736\n[693]\tvalid_0's rmse: 0.0252503\tvalid_0's l2: 0.000637578\n[694]\tvalid_0's rmse: 0.025248\tvalid_0's l2: 0.00063746\n[695]\tvalid_0's rmse: 0.0252435\tvalid_0's l2: 0.000637235\n[696]\tvalid_0's rmse: 0.0252427\tvalid_0's l2: 0.000637193\n[697]\tvalid_0's rmse: 0.0252403\tvalid_0's l2: 0.000637075\n[698]\tvalid_0's rmse: 0.0252388\tvalid_0's l2: 0.000636999\n[699]\tvalid_0's rmse: 0.0252391\tvalid_0's l2: 0.000637013\n[700]\tvalid_0's rmse: 0.0252381\tvalid_0's l2: 0.000636959\n[701]\tvalid_0's rmse: 0.0252366\tvalid_0's l2: 0.000636888\n[702]\tvalid_0's rmse: 0.0252342\tvalid_0's l2: 0.000636764\n[703]\tvalid_0's rmse: 0.0252269\tvalid_0's l2: 0.000636396\n[704]\tvalid_0's rmse: 0.0252257\tvalid_0's l2: 0.000636335\n[705]\tvalid_0's rmse: 0.0252202\tvalid_0's l2: 0.000636056\n[706]\tvalid_0's rmse: 0.0252174\tvalid_0's l2: 0.000635917\n[707]\tvalid_0's rmse: 0.025214\tvalid_0's l2: 0.000635748\n[708]\tvalid_0's rmse: 0.0252144\tvalid_0's l2: 0.000635765\n[709]\tvalid_0's rmse: 0.0252135\tvalid_0's l2: 0.000635719\n[710]\tvalid_0's rmse: 0.0252108\tvalid_0's l2: 0.000635582\n[711]\tvalid_0's rmse: 0.0252079\tvalid_0's l2: 0.000635437\n[712]\tvalid_0's rmse: 0.0252058\tvalid_0's l2: 0.000635333\n[713]\tvalid_0's rmse: 0.0252069\tvalid_0's l2: 0.00063539\n[714]\tvalid_0's rmse: 0.025206\tvalid_0's l2: 0.00063534\n[715]\tvalid_0's rmse: 0.0252051\tvalid_0's l2: 0.000635295\n[716]\tvalid_0's rmse: 0.0252018\tvalid_0's l2: 0.000635132\n[717]\tvalid_0's rmse: 0.0252028\tvalid_0's l2: 0.000635182\n[718]\tvalid_0's rmse: 0.0252021\tvalid_0's l2: 0.000635146\n[719]\tvalid_0's rmse: 0.025202\tvalid_0's l2: 0.00063514\n[720]\tvalid_0's rmse: 0.0251998\tvalid_0's l2: 0.00063503\n[721]\tvalid_0's rmse: 0.025199\tvalid_0's l2: 0.00063499\n[722]\tvalid_0's rmse: 0.0251968\tvalid_0's l2: 0.000634877\n[723]\tvalid_0's rmse: 0.0251946\tvalid_0's l2: 0.00063477\n[724]\tvalid_0's rmse: 0.0251926\tvalid_0's l2: 0.000634668\n[725]\tvalid_0's rmse: 0.0251918\tvalid_0's l2: 0.000634629\n[726]\tvalid_0's rmse: 0.0251889\tvalid_0's l2: 0.000634481\n[727]\tvalid_0's rmse: 0.0251858\tvalid_0's l2: 0.000634324\n[728]\tvalid_0's rmse: 0.0251865\tvalid_0's l2: 0.000634358\n[729]\tvalid_0's rmse: 0.0251829\tvalid_0's l2: 0.000634178\n[730]\tvalid_0's rmse: 0.0251866\tvalid_0's l2: 0.000634366\n[731]\tvalid_0's rmse: 0.0251888\tvalid_0's l2: 0.000634476\n[732]\tvalid_0's rmse: 0.0251907\tvalid_0's l2: 0.000634571\n[733]\tvalid_0's rmse: 0.0251857\tvalid_0's l2: 0.000634317\n[734]\tvalid_0's rmse: 0.0251832\tvalid_0's l2: 0.000634194\n[735]\tvalid_0's rmse: 0.0251812\tvalid_0's l2: 0.000634091\n[736]\tvalid_0's rmse: 0.0251805\tvalid_0's l2: 0.000634059\n[737]\tvalid_0's rmse: 0.0251831\tvalid_0's l2: 0.00063419\n[738]\tvalid_0's rmse: 0.0251832\tvalid_0's l2: 0.000634191\n[739]\tvalid_0's rmse: 0.0251796\tvalid_0's l2: 0.000634013\n[740]\tvalid_0's rmse: 0.0251776\tvalid_0's l2: 0.00063391\n[741]\tvalid_0's rmse: 0.0251749\tvalid_0's l2: 0.000633775\n[742]\tvalid_0's rmse: 0.0251729\tvalid_0's l2: 0.000633673\n[743]\tvalid_0's rmse: 0.025172\tvalid_0's l2: 0.000633631\n[744]\tvalid_0's rmse: 0.0251718\tvalid_0's l2: 0.000633619\n[745]\tvalid_0's rmse: 0.025167\tvalid_0's l2: 0.000633375\n[746]\tvalid_0's rmse: 0.0251662\tvalid_0's l2: 0.000633335\n[747]\tvalid_0's rmse: 0.0251657\tvalid_0's l2: 0.000633312\n[748]\tvalid_0's rmse: 0.0251651\tvalid_0's l2: 0.000633281\n[749]\tvalid_0's rmse: 0.0251643\tvalid_0's l2: 0.00063324\n[750]\tvalid_0's rmse: 0.0251631\tvalid_0's l2: 0.000633184\n[751]\tvalid_0's rmse: 0.0251598\tvalid_0's l2: 0.000633014\n[752]\tvalid_0's rmse: 0.0251573\tvalid_0's l2: 0.000632892\n[753]\tvalid_0's rmse: 0.0251535\tvalid_0's l2: 0.0006327\n[754]\tvalid_0's rmse: 0.0251548\tvalid_0's l2: 0.000632765\n[755]\tvalid_0's rmse: 0.0251573\tvalid_0's l2: 0.000632889\n[756]\tvalid_0's rmse: 0.0251559\tvalid_0's l2: 0.000632817\n[757]\tvalid_0's rmse: 0.0251571\tvalid_0's l2: 0.000632879\n[758]\tvalid_0's rmse: 0.0251593\tvalid_0's l2: 0.000632991\n[759]\tvalid_0's rmse: 0.0251587\tvalid_0's l2: 0.000632961\n[760]\tvalid_0's rmse: 0.025158\tvalid_0's l2: 0.000632924\n[761]\tvalid_0's rmse: 0.0251573\tvalid_0's l2: 0.000632891\n[762]\tvalid_0's rmse: 0.025159\tvalid_0's l2: 0.000632976\n[763]\tvalid_0's rmse: 0.0251577\tvalid_0's l2: 0.00063291\nEarly stopping, best iteration is:\n[753]\tvalid_0's rmse: 0.0251535\tvalid_0's l2: 0.0006327\n"
    }
   ],
   "source": [
    "test_out, y_prob_model, y_model = model.run_model_and_distrs(train_upd, test_upd, percent_val=0.2, qunity_starts=6, quantity_points_out=100, round_digits=6)\n"
   ]
  },
  {
   "cell_type": "code",
   "execution_count": null,
   "metadata": {},
   "outputs": [],
   "source": []
  },
  {
   "cell_type": "code",
   "execution_count": 49,
   "metadata": {},
   "outputs": [],
   "source": [
    "y_prob_model = np.round(y_prob_model/y_prob_model.sum(axis=1)[:, None], 6)"
   ]
  },
  {
   "cell_type": "code",
   "execution_count": 51,
   "metadata": {},
   "outputs": [],
   "source": [
    "pd.DataFrame(y_prob_model).to_excel('tmp.xlsx')"
   ]
  },
  {
   "cell_type": "code",
   "execution_count": 30,
   "metadata": {},
   "outputs": [],
   "source": [
    "quantity, res = np.histogram(residuals, bins=100)\n",
    "quantity = quantity/sum(quantity)"
   ]
  },
  {
   "cell_type": "code",
   "execution_count": 2,
   "metadata": {},
   "outputs": [
    {
     "name": "stdout",
     "output_type": "stream",
     "text": "# ==========================================================\n# = Solver Results                                         =\n# ==========================================================\n# ----------------------------------------------------------\n#   Problem Information\n# ----------------------------------------------------------\nProblem: \n- Name: unknown\n  Lower bound: 1823.96835259911\n  Upper bound: 1823.96835259911\n  Number of objectives: 1\n  Number of constraints: 1783\n  Number of variables: 891\n  Number of nonzeros: 3561\n  Sense: maximize\n# ----------------------------------------------------------\n#   Solver Information\n# ----------------------------------------------------------\nSolver: \n- Status: ok\n  Termination condition: optimal\n  Statistics: \n    Branch and bound: \n      Number of bounded subproblems: 0\n      Number of created subproblems: 0\n  Error rc: 0\n  Time: 0.028393983840942383\n# ----------------------------------------------------------\n#   Solution Information\n# ----------------------------------------------------------\nSolution: \n- number of solutions: 0\n  number of solutions displayed: 0\n\n\nWARNING: DEPRECATED: The .value property getter on SimpleObjective is\n    deprecated. Use the .expr property getter instead\nЦелевая : 1823.9683525991052\n\nСумма по общему кол-ву : 50000.0\n\nМаксимальная затраченная энергия на галактику : 100.0\n\nПроцент энергии на короткоживущих планетах : 0.132\n\n"
    }
   ],
   "source": [
    "opt = galaxy_optim(train)\n",
    "opt.solve()\n",
    "results = opt.prepare_output_file()\n",
    "opt.check_optim_results()"
   ]
  },
  {
   "cell_type": "code",
   "execution_count": null,
   "metadata": {},
   "outputs": [],
   "source": []
  }
 ]
}